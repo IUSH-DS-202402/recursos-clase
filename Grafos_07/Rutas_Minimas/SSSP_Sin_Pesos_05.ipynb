{
 "cells": [
  {
   "cell_type": "code",
   "execution_count": 6,
   "metadata": {},
   "outputs": [],
   "source": [
    "listaAdj = {\n",
    "    \"A\": [\"B\", \"C\", \"D\", \"E\"],\n",
    "    \"B\": [\"A\", \"C\"],\n",
    "    \"C\": [\"A\", \"B\", \"D\"],\n",
    "    \"D\": [\"A\", \"C\", \"E\"],\n",
    "    \"E\": [\"A\", \"D\"]\n",
    "}"
   ]
  },
  {
   "cell_type": "code",
   "execution_count": 17,
   "metadata": {},
   "outputs": [],
   "source": [
    "from collections import defaultdict, deque\n",
    "import sys\n",
    "def bfs(i):\n",
    "    distancia = defaultdict(lambda: sys.maxsize)\n",
    "    # La cola de pendientes almacena los nodos que falta por recorrer\n",
    "    pendientes = deque()\n",
    "    pendientes.append(i)\n",
    "    padre = {}\n",
    "    distancia[i] = 0\n",
    "    while len(pendientes) != 0:\n",
    "        i = pendientes.popleft()\n",
    "        print(i)\n",
    "        for j in listaAdj[i]:\n",
    "            if distancia[j] == sys.maxsize:\n",
    "                distancia[j] = distancia[i]+1\n",
    "                padre[j] = i\n",
    "                pendientes.append(j)\n",
    "    return padre, distancia"
   ]
  },
  {
   "cell_type": "code",
   "execution_count": 43,
   "metadata": {},
   "outputs": [],
   "source": [
    "def imprimir(origen,destino, padre):\n",
    "    if origen == destino:\n",
    "        print(f\"{origen}\", end=\"\")\n",
    "        return\n",
    "    imprimir(origen, padre[destino], padre)\n",
    "    print(f\" -> {destino}\", end=\"\")"
   ]
  },
  {
   "cell_type": "code",
   "execution_count": 33,
   "metadata": {},
   "outputs": [
    {
     "name": "stdout",
     "output_type": "stream",
     "text": [
      "B\n",
      "A\n",
      "C\n",
      "D\n",
      "E\n"
     ]
    }
   ],
   "source": [
    "padres, d = bfs(\"B\")"
   ]
  },
  {
   "cell_type": "code",
   "execution_count": 44,
   "metadata": {},
   "outputs": [
    {
     "name": "stdout",
     "output_type": "stream",
     "text": [
      "B -> A -> D"
     ]
    }
   ],
   "source": [
    "imprimir(\"B\", \"D\",padres)"
   ]
  },
  {
   "cell_type": "code",
   "execution_count": 46,
   "metadata": {},
   "outputs": [
    {
     "name": "stdout",
     "output_type": "stream",
     "text": [
      "defaultdict(<function bfs.<locals>.<lambda> at 0x7d8134f091c0>, {'B': 0, 'A': 1, 'C': 1, 'D': 2, 'E': 2})\n"
     ]
    }
   ],
   "source": [
    "print(d)"
   ]
  }
 ],
 "metadata": {
  "kernelspec": {
   "display_name": "realbase",
   "language": "python",
   "name": "python3"
  },
  "language_info": {
   "codemirror_mode": {
    "name": "ipython",
    "version": 3
   },
   "file_extension": ".py",
   "mimetype": "text/x-python",
   "name": "python",
   "nbconvert_exporter": "python",
   "pygments_lexer": "ipython3",
   "version": "3.11.8"
  }
 },
 "nbformat": 4,
 "nbformat_minor": 2
}
