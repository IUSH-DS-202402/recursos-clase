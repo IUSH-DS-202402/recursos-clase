{
 "cells": [
  {
   "cell_type": "markdown",
   "metadata": {},
   "source": [
    "# Grafos representados como matrices de adyacencia.\n",
    "\n",
    "Note que este ejemplo crea un grafo no dirigido."
   ]
  },
  {
   "cell_type": "code",
   "execution_count": 10,
   "metadata": {},
   "outputs": [],
   "source": [
    "from collections import deque\n",
    "\n",
    "\n",
    "class GrafoMA:\n",
    "    def __init__(self,n):\n",
    "        self.cantidad_nodos = n\n",
    "        self.matriz = []\n",
    "        for _ in range(n): # Se itera por todas las posiciones de cantidad\n",
    "            self.matriz.append([None] * n) # Se agrega una sublista de tamaño n\n",
    "\n",
    "    def define_adyacencia(self,i,j):\n",
    "        self.matriz[i][j] = 1\n",
    "        self.matriz[j][i] = 1\n",
    "\n",
    "    def dfs(self, i, visitados=None):\n",
    "        if visitados is None:\n",
    "            visitados = [0] * self.cantidad_nodos\n",
    "        visitados[i] = 1\n",
    "        print(i)\n",
    "        for j in range(self.cantidad_nodos):\n",
    "            #Si el nodo j es adyacente al nodo i\n",
    "            # y si no se ha visitado el nodo\n",
    "            if self.matriz[i][j] == 1 \\\n",
    "                and visitados[j] == 0:\n",
    "                self.dfs(j, visitados)\n",
    "\n",
    "    def bfs(self, i):\n",
    "        visitados = [0] * self.cantidad_nodos\n",
    "        pendientes = deque()\n",
    "        pendientes.append(i)\n",
    "        visitados[i] = 1\n",
    "        while len(pendientes) != 0:\n",
    "            i = pendientes.popleft()\n",
    "            print(i)\n",
    "            for j in range(self.cantidad_nodos):\n",
    "                if self.matriz[i][j] == 1 \\\n",
    "                and visitados[j] == 0:\n",
    "                    pendientes.append(j)\n",
    "                    visitados[j] = 1"
   ]
  },
  {
   "cell_type": "code",
   "execution_count": 14,
   "metadata": {},
   "outputs": [],
   "source": [
    "g = GrafoMA(7)\n",
    "g.define_adyacencia(0,1)\n",
    "g.define_adyacencia(0,2)\n",
    "g.define_adyacencia(1,3)\n",
    "g.define_adyacencia(1,4)\n",
    "g.define_adyacencia(2,5)\n",
    "g.define_adyacencia(2,6)"
   ]
  },
  {
   "cell_type": "code",
   "execution_count": 15,
   "metadata": {},
   "outputs": [
    {
     "name": "stdout",
     "output_type": "stream",
     "text": [
      "0\n",
      "1\n",
      "2\n",
      "3\n",
      "4\n",
      "5\n",
      "6\n"
     ]
    }
   ],
   "source": [
    "g.bfs(0)"
   ]
  },
  {
   "cell_type": "code",
   "execution_count": 16,
   "metadata": {},
   "outputs": [
    {
     "name": "stdout",
     "output_type": "stream",
     "text": [
      "0\n",
      "1\n",
      "3\n",
      "4\n",
      "2\n",
      "5\n",
      "6\n"
     ]
    }
   ],
   "source": [
    "g.dfs(0)"
   ]
  }
 ],
 "metadata": {
  "kernelspec": {
   "display_name": "realbase",
   "language": "python",
   "name": "python3"
  },
  "language_info": {
   "codemirror_mode": {
    "name": "ipython",
    "version": 3
   },
   "file_extension": ".py",
   "mimetype": "text/x-python",
   "name": "python",
   "nbconvert_exporter": "python",
   "pygments_lexer": "ipython3",
   "version": "3.11.8"
  }
 },
 "nbformat": 4,
 "nbformat_minor": 2
}
