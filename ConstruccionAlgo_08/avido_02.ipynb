{
 "cells": [
  {
   "cell_type": "code",
   "execution_count": 7,
   "metadata": {},
   "outputs": [
    {
     "name": "stdout",
     "output_type": "stream",
     "text": [
      "devuelta: [25, 10, 5, 1, 1]\n"
     ]
    }
   ],
   "source": [
    "M = [25, 10, 5, 1]\n",
    "V = 42\n",
    "\n",
    "def devuelta_monedas(cambio): \n",
    "    devuelta = []\n",
    "    i = 0 \n",
    "    while i < len(M) and cambio != 0:\n",
    "        if M[i] <= cambio:\n",
    "            cambio = cambio - M[i]\n",
    "            devuelta.append(M[i])\n",
    "        else:\n",
    "            i = i+1\n",
    "    if cambio != 0:\n",
    "        raise Exception(\"No se puede devolver\")\n",
    "    else:\n",
    "        print(f\"devuelta: {devuelta}\")\n",
    "\n",
    "devuelta_monedas(V)"
   ]
  }
 ],
 "metadata": {
  "kernelspec": {
   "display_name": "realbase",
   "language": "python",
   "name": "python3"
  },
  "language_info": {
   "codemirror_mode": {
    "name": "ipython",
    "version": 3
   },
   "file_extension": ".py",
   "mimetype": "text/x-python",
   "name": "python",
   "nbconvert_exporter": "python",
   "pygments_lexer": "ipython3",
   "version": "3.11.8"
  }
 },
 "nbformat": 4,
 "nbformat_minor": 2
}
