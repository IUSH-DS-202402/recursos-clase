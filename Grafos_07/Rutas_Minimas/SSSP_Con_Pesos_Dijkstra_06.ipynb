{
 "cells": [
  {
   "cell_type": "markdown",
   "metadata": {},
   "source": [
    "# Algoritmo de Dijkstra"
   ]
  },
  {
   "cell_type": "code",
   "execution_count": 3,
   "metadata": {},
   "outputs": [],
   "source": [
    "listaAdj = {\n",
    "    \"A\": [(\"E\", 1)],\n",
    "    \"B\": [(\"D\", 3), (\"E\", 6)],\n",
    "    \"C\": [(\"A\", 6), (\"B\", 2), (\"D\", 7)],\n",
    "    \"D\": [(\"E\", 5)],\n",
    "    \"E\": []\n",
    "}"
   ]
  },
  {
   "cell_type": "code",
   "execution_count": null,
   "metadata": {},
   "outputs": [],
   "source": []
  },
  {
   "cell_type": "code",
   "execution_count": 16,
   "metadata": {},
   "outputs": [],
   "source": [
    "from collections import defaultdict\n",
    "from queue import PriorityQueue\n",
    "import sys\n",
    "def dijkstra(listaAdj, v_inicial):\n",
    "    dist = defaultdict(lambda: sys.maxsize)\n",
    "    dist[v_inicial] = 0\n",
    "    cp = PriorityQueue()\n",
    "    cp.put((0,v_inicial))\n",
    "    while not cp.empty():\n",
    "        primero = cp.get()\n",
    "        vertice = primero[1]\n",
    "        distancia = primero[0]\n",
    "        #print(f\"dequeded {primero}\")\n",
    "        if distancia > dist[vertice]:\n",
    "            continue\n",
    "        #print(f\"processing {primero}\")\n",
    "        for adya in listaAdj[vertice]:\n",
    "            nombre_adyacente = adya[0]\n",
    "            peso = adya[1]\n",
    "            if dist[vertice] + peso < dist[nombre_adyacente]:\n",
    "                #print(f\"updating {vertice} -> {nombre_adyacente}; {dist[nombre_adyacente]} -> {dist[vertice] + peso} {dist}\")\n",
    "                dist[nombre_adyacente] = dist[vertice] + peso\n",
    "                #print(dist)\n",
    "                #print(f\"queing {(dist[nombre_adyacente], nombre_adyacente)}\")\n",
    "                cp.put((dist[nombre_adyacente], nombre_adyacente))\n",
    "    return dist"
   ]
  },
  {
   "cell_type": "code",
   "execution_count": null,
   "metadata": {},
   "outputs": [],
   "source": []
  },
  {
   "cell_type": "code",
   "execution_count": 17,
   "metadata": {},
   "outputs": [
    {
     "name": "stdout",
     "output_type": "stream",
     "text": [
      "dequeded (0, 'C')\n",
      "processing (0, 'C')\n",
      "updating C -> A; 9223372036854775807 -> 6 defaultdict(<function dijkstra.<locals>.<lambda> at 0x74bd7eb02160>, {'C': 0, 'A': 9223372036854775807})\n",
      "defaultdict(<function dijkstra.<locals>.<lambda> at 0x74bd7eb02160>, {'C': 0, 'A': 6})\n",
      "queing (6, 'A')\n",
      "updating C -> B; 9223372036854775807 -> 2 defaultdict(<function dijkstra.<locals>.<lambda> at 0x74bd7eb02160>, {'C': 0, 'A': 6, 'B': 9223372036854775807})\n",
      "defaultdict(<function dijkstra.<locals>.<lambda> at 0x74bd7eb02160>, {'C': 0, 'A': 6, 'B': 2})\n",
      "queing (2, 'B')\n",
      "updating C -> D; 9223372036854775807 -> 7 defaultdict(<function dijkstra.<locals>.<lambda> at 0x74bd7eb02160>, {'C': 0, 'A': 6, 'B': 2, 'D': 9223372036854775807})\n",
      "defaultdict(<function dijkstra.<locals>.<lambda> at 0x74bd7eb02160>, {'C': 0, 'A': 6, 'B': 2, 'D': 7})\n",
      "queing (7, 'D')\n",
      "dequeded (2, 'B')\n",
      "processing (2, 'B')\n",
      "updating B -> D; 7 -> 5 defaultdict(<function dijkstra.<locals>.<lambda> at 0x74bd7eb02160>, {'C': 0, 'A': 6, 'B': 2, 'D': 7})\n",
      "defaultdict(<function dijkstra.<locals>.<lambda> at 0x74bd7eb02160>, {'C': 0, 'A': 6, 'B': 2, 'D': 5})\n",
      "queing (5, 'D')\n",
      "updating B -> E; 9223372036854775807 -> 8 defaultdict(<function dijkstra.<locals>.<lambda> at 0x74bd7eb02160>, {'C': 0, 'A': 6, 'B': 2, 'D': 5, 'E': 9223372036854775807})\n",
      "defaultdict(<function dijkstra.<locals>.<lambda> at 0x74bd7eb02160>, {'C': 0, 'A': 6, 'B': 2, 'D': 5, 'E': 8})\n",
      "queing (8, 'E')\n",
      "dequeded (5, 'D')\n",
      "processing (5, 'D')\n",
      "dequeded (6, 'A')\n",
      "processing (6, 'A')\n",
      "updating A -> E; 8 -> 7 defaultdict(<function dijkstra.<locals>.<lambda> at 0x74bd7eb02160>, {'C': 0, 'A': 6, 'B': 2, 'D': 5, 'E': 8})\n",
      "defaultdict(<function dijkstra.<locals>.<lambda> at 0x74bd7eb02160>, {'C': 0, 'A': 6, 'B': 2, 'D': 5, 'E': 7})\n",
      "queing (7, 'E')\n",
      "dequeded (7, 'D')\n",
      "dequeded (7, 'E')\n",
      "processing (7, 'E')\n",
      "dequeded (8, 'E')\n"
     ]
    },
    {
     "data": {
      "text/plain": [
       "defaultdict(<function __main__.dijkstra.<locals>.<lambda>()>,\n",
       "            {'C': 0, 'A': 6, 'B': 2, 'D': 5, 'E': 7})"
      ]
     },
     "execution_count": 17,
     "metadata": {},
     "output_type": "execute_result"
    }
   ],
   "source": [
    "dijkstra(listaAdj,\"C\")"
   ]
  }
 ],
 "metadata": {
  "kernelspec": {
   "display_name": "realbase",
   "language": "python",
   "name": "python3"
  },
  "language_info": {
   "codemirror_mode": {
    "name": "ipython",
    "version": 3
   },
   "file_extension": ".py",
   "mimetype": "text/x-python",
   "name": "python",
   "nbconvert_exporter": "python",
   "pygments_lexer": "ipython3",
   "version": "3.11.8"
  }
 },
 "nbformat": 4,
 "nbformat_minor": 2
}
