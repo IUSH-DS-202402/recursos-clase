{
 "cells": [
  {
   "attachments": {
    "image.png": {
     "image/png": "[encoded data removed]"
    }
   },
   "cell_type": "markdown",
   "metadata": {},
   "source": [
    "# Algoritmo de Kruskal\n",
    "\n",
    "![image.png](attachment:image.png)\n",
    "\n",
    "\n",
    "Primero creamos la lista de adyacencia. En este caso la crearemos sin recurrir a una clase, lo haremos por facilidad de explicar.\n"
   ]
  },
  {
   "cell_type": "code",
   "execution_count": 2,
   "metadata": {},
   "outputs": [],
   "source": [
    "listaAdj = {\n",
    "    \"A\": [(\"B\", 1), (\"C\", 7), (\"D\", 10), (\"E\", 5)],\n",
    "    \"B\": [(\"A\", 1), (\"C\", 3)],\n",
    "    \"C\": [(\"A\", 7), (\"B\", 3), (\"D\", 4)],\n",
    "    \"D\": [(\"A\", 10), (\"C\", 4), (\"E\", 2)],\n",
    "    \"E\": [(\"A\", 5), (\"D\", 2)]\n",
    "}"
   ]
  },
  {
   "cell_type": "code",
   "execution_count": 3,
   "metadata": {},
   "outputs": [],
   "source": [
    "from queue import PriorityQueue\n",
    "from collections import defaultdict \n",
    "\n",
    "def procesar(vertice, conectados, listaAdj, cp):\n",
    "    # Se considera el vértice como conectado\n",
    "    conectados.add(vertice)\n",
    "    cant_adyacentes = len(listaAdj[vertice])\n",
    "    # Pasamos por los adyacentes al vértice\n",
    "    for j in range(cant_adyacentes):\n",
    "        # se almacena en adyacente el nombre del vértice\n",
    "        adyacente = listaAdj[vertice][j][0]\n",
    "        #se almacena en peso el costo de ir de 'vertice' a 'adyacente'\n",
    "        peso = listaAdj[vertice][j][1]\n",
    "        # Si el adyacente no ha sido conectado\n",
    "        if adyacente not in conectados:\n",
    "            # Agregamos el lado a la cola de prioridad\n",
    "            lado = (peso, (vertice, adyacente))\n",
    "            cp.put(lado)\n",
    "            \n",
    "\n",
    "\n",
    "def prim(listaAdj, primer_vertice):\n",
    "    numVertices = len(listaAdj)\n",
    "    # Cola de prioridad para los lados que deben ser revisados\n",
    "    cp = PriorityQueue()\n",
    "    # Conjunto de vértices conectados, hasta ahora es vacío\n",
    "    conectados = set()\n",
    "    # Creación del spanning tree como lista de incidencia.\n",
    "    st = []\n",
    "    # Se procesa el primer vértice, puede ser cualquiera\n",
    "    procesar(primer_vertice, conectados, listaAdj, cp)\n",
    "    # En conectados se tiene actualizado el primer nodo, \n",
    "    # en cp se encuentran los adyacentes al primer vértice\n",
    "    # ordenados por peso \n",
    "    while not cp.empty():\n",
    "        lado = cp.get() # Desencolamos el lado de menor peso\n",
    "        vertice = lado[1][1] #Identificamos que vértice es\n",
    "        # Si el vértice ya está en conectados, quiere decir\n",
    "        # que no podemos agregar este lado porque genera ciclo\n",
    "        if vertice not in conectados:\n",
    "            # Si el vértice no está en conectados, entonces \n",
    "            # se agrega el lado al spanning tree.\n",
    "            st.append(lado)\n",
    "            # Se procesa el vértice encontrando todos los adyacentes\n",
    "            # y agregandolos a la cola de prioridad.\n",
    "            procesar(vertice, conectados, listaAdj, cp)\n",
    "    return st\n"
   ]
  },
  {
   "cell_type": "code",
   "execution_count": 4,
   "metadata": {},
   "outputs": [
    {
     "name": "stdout",
     "output_type": "stream",
     "text": [
      "[(1, ('A', 'B')), (3, ('B', 'C')), (4, ('C', 'D')), (2, ('D', 'E'))]\n"
     ]
    }
   ],
   "source": [
    "c = prim(listaAdj, \"A\")\n",
    "print(c)"
   ]
  }
 ],
 "metadata": {
  "kernelspec": {
   "display_name": "realbase",
   "language": "python",
   "name": "python3"
  },
  "language_info": {
   "codemirror_mode": {
    "name": "ipython",
    "version": 3
   },
   "file_extension": ".py",
   "mimetype": "text/x-python",
   "name": "python",
   "nbconvert_exporter": "python",
   "pygments_lexer": "ipython3",
   "version": "3.11.8"
  }
 },
 "nbformat": 4,
 "nbformat_minor": 2
}
