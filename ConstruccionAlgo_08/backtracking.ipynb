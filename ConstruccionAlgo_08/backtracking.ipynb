{
 "cells": [
  {
   "cell_type": "code",
   "execution_count": 23,
   "metadata": {},
   "outputs": [],
   "source": []
  },
  {
   "cell_type": "code",
   "execution_count": 24,
   "metadata": {},
   "outputs": [],
   "source": []
  },
  {
   "cell_type": "code",
   "execution_count": 25,
   "metadata": {},
   "outputs": [],
   "source": []
  },
  {
   "cell_type": "code",
   "execution_count": 26,
   "metadata": {},
   "outputs": [],
   "source": [
    "n = 8\n",
    "ubicacion = [0] * n\n",
    "\n",
    "def esValida(k):\n",
    "    for i in range(0,k):\n",
    "        misma_fila = ubicacion[i] == ubicacion[k]\n",
    "        misma_diagonal = abs(ubicacion[i]-ubicacion[k]) == abs(i-k)\n",
    "        if misma_fila or misma_diagonal:\n",
    "            return False\n",
    "    return True\n",
    "\n",
    "def n_reinas_backtrack(k):\n",
    "    if k == n:\n",
    "        print(ubicacion)\n",
    "        return\n",
    "    for i in range(n):\n",
    "        ubicacion[k] = i \n",
    "        if esValida(k):\n",
    "            n_reinas_backtrack(k+1)\n"
   ]
  },
  {
   "cell_type": "code",
   "execution_count": 27,
   "metadata": {},
   "outputs": [
    {
     "name": "stdout",
     "output_type": "stream",
     "text": [
      "[1, 3, 0, 2]\n",
      "[2, 0, 3, 1]\n"
     ]
    }
   ],
   "source": [
    "n_reinas_backtrack(0)"
   ]
  },
  {
   "cell_type": "code",
   "execution_count": null,
   "metadata": {},
   "outputs": [],
   "source": []
  }
 ],
 "metadata": {
  "kernelspec": {
   "display_name": "realbase",
   "language": "python",
   "name": "python3"
  },
  "language_info": {
   "codemirror_mode": {
    "name": "ipython",
    "version": 3
   },
   "file_extension": ".py",
   "mimetype": "text/x-python",
   "name": "python",
   "nbconvert_exporter": "python",
   "pygments_lexer": "ipython3",
   "version": "3.11.8"
  }
 },
 "nbformat": 4,
 "nbformat_minor": 2
}
