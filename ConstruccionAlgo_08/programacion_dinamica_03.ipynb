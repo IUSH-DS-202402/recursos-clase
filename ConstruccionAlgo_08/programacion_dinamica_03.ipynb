{
 "cells": [
  {
   "cell_type": "code",
   "execution_count": 1,
   "metadata": {},
   "outputs": [
    {
     "data": {
      "text/plain": [
       "2"
      ]
     },
     "execution_count": 1,
     "metadata": {},
     "output_type": "execute_result"
    }
   ],
   "source": [
    "\n",
    "monedas = [1,3,4,5]\n",
    "cambios = [99999] * 30\n",
    "cambios[0] = 0\n",
    "\n",
    "def cambio(valor):\n",
    "    if valor < 0:\n",
    "        return 99999\n",
    "    if cambios[valor] != 99999:\n",
    "        return cambios[valor]\n",
    "    \n",
    "    resultados = []\n",
    "    for m in monedas:\n",
    "        c = cambio(valor - m)\n",
    "        resultados.append(c)\n",
    "    cant_monedas = min(resultados)+1\n",
    "    cambios[valor] = cant_monedas\n",
    "    return cant_monedas\n",
    "\n",
    "cambio(7)"
   ]
  }
 ],
 "metadata": {
  "kernelspec": {
   "display_name": "realbase",
   "language": "python",
   "name": "python3"
  },
  "language_info": {
   "codemirror_mode": {
    "name": "ipython",
    "version": 3
   },
   "file_extension": ".py",
   "mimetype": "text/x-python",
   "name": "python",
   "nbconvert_exporter": "python",
   "pygments_lexer": "ipython3",
   "version": "3.11.8"
  }
 },
 "nbformat": 4,
 "nbformat_minor": 2
}
